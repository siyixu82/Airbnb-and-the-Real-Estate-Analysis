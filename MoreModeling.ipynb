{
 "cells": [
  {
   "cell_type": "code",
   "execution_count": 1,
   "metadata": {},
   "outputs": [],
   "source": [
    "'''\n",
    "Random Forest and Support Vector Regression Models (rbf and linear kernels)\n",
    "'''\n",
    "import pandas as pd\n",
    "import numpy as np\n",
    "import matplotlib.pyplot as plt\n",
    "\n",
    "from sklearn.metrics import mean_squared_error, r2_score\n",
    "from sklearn.model_selection import train_test_split\n",
    "from sklearn.metrics import mean_squared_error\n",
    "from sklearn.model_selection import cross_val_score, cross_val_predict\n",
    "from sklearn.model_selection import KFold\n",
    "from sklearn.preprocessing import MinMaxScaler\n",
    "from sklearn.model_selection import GridSearchCV\n",
    "\n",
    "from sklearn.ensemble import RandomForestRegressor\n",
    "from sklearn.svm import SVR"
   ]
  },
  {
   "cell_type": "code",
   "execution_count": 2,
   "metadata": {},
   "outputs": [
    {
     "data": {
      "text/html": [
       "<div>\n",
       "<style scoped>\n",
       "    .dataframe tbody tr th:only-of-type {\n",
       "        vertical-align: middle;\n",
       "    }\n",
       "\n",
       "    .dataframe tbody tr th {\n",
       "        vertical-align: top;\n",
       "    }\n",
       "\n",
       "    .dataframe thead th {\n",
       "        text-align: right;\n",
       "    }\n",
       "</style>\n",
       "<table border=\"1\" class=\"dataframe\">\n",
       "  <thead>\n",
       "    <tr style=\"text-align: right;\">\n",
       "      <th></th>\n",
       "      <th>is superhost</th>\n",
       "      <th>accommodates</th>\n",
       "      <th>bathrooms</th>\n",
       "      <th>bedrooms</th>\n",
       "      <th>beds</th>\n",
       "      <th>price</th>\n",
       "      <th>logprice</th>\n",
       "      <th>Entire home/apt</th>\n",
       "      <th>Private room</th>\n",
       "      <th>Shared room</th>\n",
       "      <th>...</th>\n",
       "      <th>Carbon Monoxide Detector</th>\n",
       "      <th>Hair Dryer</th>\n",
       "      <th>Laptop Friendly Workspace</th>\n",
       "      <th>Iron</th>\n",
       "      <th>Fire Extinguisher</th>\n",
       "      <th>Hot Water</th>\n",
       "      <th>Free Parking on Premises</th>\n",
       "      <th>Self Check-in</th>\n",
       "      <th>First Aid Kit</th>\n",
       "      <th>review conf</th>\n",
       "    </tr>\n",
       "  </thead>\n",
       "  <tbody>\n",
       "    <tr>\n",
       "      <th>0</th>\n",
       "      <td>1</td>\n",
       "      <td>2</td>\n",
       "      <td>1.0</td>\n",
       "      <td>1.0</td>\n",
       "      <td>1.0</td>\n",
       "      <td>85.0</td>\n",
       "      <td>4.442651</td>\n",
       "      <td>1</td>\n",
       "      <td>0</td>\n",
       "      <td>0</td>\n",
       "      <td>...</td>\n",
       "      <td>0</td>\n",
       "      <td>0</td>\n",
       "      <td>1</td>\n",
       "      <td>1</td>\n",
       "      <td>0</td>\n",
       "      <td>0</td>\n",
       "      <td>1</td>\n",
       "      <td>1</td>\n",
       "      <td>0</td>\n",
       "      <td>0.971296</td>\n",
       "    </tr>\n",
       "    <tr>\n",
       "      <th>1</th>\n",
       "      <td>1</td>\n",
       "      <td>4</td>\n",
       "      <td>2.0</td>\n",
       "      <td>2.0</td>\n",
       "      <td>2.0</td>\n",
       "      <td>225.0</td>\n",
       "      <td>5.416100</td>\n",
       "      <td>1</td>\n",
       "      <td>0</td>\n",
       "      <td>0</td>\n",
       "      <td>...</td>\n",
       "      <td>0</td>\n",
       "      <td>0</td>\n",
       "      <td>1</td>\n",
       "      <td>1</td>\n",
       "      <td>0</td>\n",
       "      <td>1</td>\n",
       "      <td>1</td>\n",
       "      <td>1</td>\n",
       "      <td>0</td>\n",
       "      <td>0.868458</td>\n",
       "    </tr>\n",
       "    <tr>\n",
       "      <th>2</th>\n",
       "      <td>1</td>\n",
       "      <td>2</td>\n",
       "      <td>1.0</td>\n",
       "      <td>1.0</td>\n",
       "      <td>1.0</td>\n",
       "      <td>100.0</td>\n",
       "      <td>4.605170</td>\n",
       "      <td>0</td>\n",
       "      <td>1</td>\n",
       "      <td>0</td>\n",
       "      <td>...</td>\n",
       "      <td>0</td>\n",
       "      <td>0</td>\n",
       "      <td>1</td>\n",
       "      <td>1</td>\n",
       "      <td>0</td>\n",
       "      <td>1</td>\n",
       "      <td>1</td>\n",
       "      <td>0</td>\n",
       "      <td>0</td>\n",
       "      <td>0.787347</td>\n",
       "    </tr>\n",
       "    <tr>\n",
       "      <th>3</th>\n",
       "      <td>1</td>\n",
       "      <td>3</td>\n",
       "      <td>1.0</td>\n",
       "      <td>1.0</td>\n",
       "      <td>2.0</td>\n",
       "      <td>95.0</td>\n",
       "      <td>4.553877</td>\n",
       "      <td>1</td>\n",
       "      <td>0</td>\n",
       "      <td>0</td>\n",
       "      <td>...</td>\n",
       "      <td>0</td>\n",
       "      <td>0</td>\n",
       "      <td>0</td>\n",
       "      <td>1</td>\n",
       "      <td>0</td>\n",
       "      <td>1</td>\n",
       "      <td>0</td>\n",
       "      <td>0</td>\n",
       "      <td>0</td>\n",
       "      <td>0.956286</td>\n",
       "    </tr>\n",
       "    <tr>\n",
       "      <th>4</th>\n",
       "      <td>1</td>\n",
       "      <td>2</td>\n",
       "      <td>1.0</td>\n",
       "      <td>1.0</td>\n",
       "      <td>1.0</td>\n",
       "      <td>40.0</td>\n",
       "      <td>3.688879</td>\n",
       "      <td>0</td>\n",
       "      <td>1</td>\n",
       "      <td>0</td>\n",
       "      <td>...</td>\n",
       "      <td>0</td>\n",
       "      <td>0</td>\n",
       "      <td>0</td>\n",
       "      <td>0</td>\n",
       "      <td>1</td>\n",
       "      <td>1</td>\n",
       "      <td>1</td>\n",
       "      <td>0</td>\n",
       "      <td>1</td>\n",
       "      <td>0.972438</td>\n",
       "    </tr>\n",
       "  </tbody>\n",
       "</table>\n",
       "<p>5 rows × 43 columns</p>\n",
       "</div>"
      ],
      "text/plain": [
       "   is superhost  accommodates  bathrooms  bedrooms  beds  price  logprice  \\\n",
       "0             1             2        1.0       1.0   1.0   85.0  4.442651   \n",
       "1             1             4        2.0       2.0   2.0  225.0  5.416100   \n",
       "2             1             2        1.0       1.0   1.0  100.0  4.605170   \n",
       "3             1             3        1.0       1.0   2.0   95.0  4.553877   \n",
       "4             1             2        1.0       1.0   1.0   40.0  3.688879   \n",
       "\n",
       "   Entire home/apt  Private room  Shared room  ...  Carbon Monoxide Detector  \\\n",
       "0                1             0            0  ...                         0   \n",
       "1                1             0            0  ...                         0   \n",
       "2                0             1            0  ...                         0   \n",
       "3                1             0            0  ...                         0   \n",
       "4                0             1            0  ...                         0   \n",
       "\n",
       "   Hair Dryer  Laptop Friendly Workspace  Iron  Fire Extinguisher  Hot Water  \\\n",
       "0           0                          1     1                  0          0   \n",
       "1           0                          1     1                  0          1   \n",
       "2           0                          1     1                  0          1   \n",
       "3           0                          0     1                  0          1   \n",
       "4           0                          0     0                  1          1   \n",
       "\n",
       "   Free Parking on Premises  Self Check-in  First Aid Kit  review conf  \n",
       "0                         1              1              0     0.971296  \n",
       "1                         1              1              0     0.868458  \n",
       "2                         1              0              0     0.787347  \n",
       "3                         0              0              0     0.956286  \n",
       "4                         1              0              1     0.972438  \n",
       "\n",
       "[5 rows x 43 columns]"
      ]
     },
     "execution_count": 2,
     "metadata": {},
     "output_type": "execute_result"
    }
   ],
   "source": [
    "city_data = pd.read_csv('clean_city_data.csv', index_col=0)\n",
    "model_data = city_data.drop(['neighbourhood','property type','room type','bed type','id','city','state','zipcode','longitude','latitude','amenities','review score', 'num reviews', 'Zhvi', 'Normalized Zhvi'], axis=1)\n",
    "model_data['review conf'] = model_data['review conf']/100\n",
    "model_data.head(5)"
   ]
  },
  {
   "cell_type": "code",
   "execution_count": 3,
   "metadata": {},
   "outputs": [],
   "source": [
    "X = model_data.drop(['logprice','price'],axis=1)\n",
    "y = model_data['logprice']"
   ]
  },
  {
   "cell_type": "code",
   "execution_count": 4,
   "metadata": {},
   "outputs": [],
   "source": [
    "seed = 7\n",
    "np.random.seed(seed)\n",
    "kfold = KFold(n_splits=10, random_state=seed)"
   ]
  },
  {
   "cell_type": "code",
   "execution_count": 26,
   "metadata": {},
   "outputs": [
    {
     "data": {
      "text/plain": [
       "RandomForestRegressor(bootstrap=True, criterion='mse', max_depth=5,\n",
       "           max_features='auto', max_leaf_nodes=None,\n",
       "           min_impurity_decrease=0.0, min_impurity_split=None,\n",
       "           min_samples_leaf=1, min_samples_split=2,\n",
       "           min_weight_fraction_leaf=0.0, n_estimators=100, n_jobs=None,\n",
       "           oob_score=False, random_state=None, verbose=0, warm_start=False)"
      ]
     },
     "execution_count": 26,
     "metadata": {},
     "output_type": "execute_result"
    }
   ],
   "source": [
    "RFR_model = RandomForestRegressor(n_estimators=100, max_depth=5, max_features=\"auto\")\n",
    "RFR_model.fit(X,y)"
   ]
  },
  {
   "cell_type": "code",
   "execution_count": null,
   "metadata": {},
   "outputs": [],
   "source": [
    "#parameters = {'kernel':('linear', 'rbf'), 'C':[1, 10, 100]}\n",
    "#SVR_opt = SVR(gamma='scale')\n",
    "#SVR_opt_reg = GridSearchCV(SVR_opt, parameters, scoring = 'neg_mean_squared_error', cv=kfold)\n",
    "#SVR_opt_reg.fit(X,y)\n",
    "#print(SVR_opt_reg.best_params)"
   ]
  },
  {
   "cell_type": "code",
   "execution_count": 5,
   "metadata": {},
   "outputs": [
    {
     "data": {
      "text/plain": [
       "SVR(C=1.0, cache_size=2000, coef0=0.0, degree=3, epsilon=0.1,\n",
       "  gamma='auto_deprecated', kernel='linear', max_iter=-1, shrinking=True,\n",
       "  tol=0.001, verbose=False)"
      ]
     },
     "execution_count": 5,
     "metadata": {},
     "output_type": "execute_result"
    }
   ],
   "source": [
    "SVR_linear_model = SVR(cache_size=2000, kernel=\"linear\")\n",
    "SVR_linear_model.fit(X,y)"
   ]
  },
  {
   "cell_type": "code",
   "execution_count": null,
   "metadata": {},
   "outputs": [],
   "source": [
    "SVR_linear_model2 = SVR(cache_size=2000, kernel=\"linear\", C=10)\n",
    "SVR_linear_model2.fit(X,y)"
   ]
  },
  {
   "cell_type": "code",
   "execution_count": 6,
   "metadata": {},
   "outputs": [
    {
     "name": "stdout",
     "output_type": "stream",
     "text": [
      "Random Forest Regression R^2 value: 0.50 (std: 0.05)\n"
     ]
    }
   ],
   "source": [
    "RFR_R2 = cross_val_score(RFR_model, X, y, cv=kfold)\n",
    "print(\"Random Forest Regression R^2 value: %.2f (std: %.2f)\" % (RFR_R2.mean(), RFR_R2.std()))"
   ]
  },
  {
   "cell_type": "code",
   "execution_count": 10,
   "metadata": {},
   "outputs": [],
   "source": [
    "#SVR_R2 = cross_val_score(SVR_model, X, y, cv=kfold)\n",
    "#print(\"Support Vector Regression (rbf) R^2 value: %.2f (std: %.2f)\" % (SVR_R2.mean(), SVR_R2.std()))"
   ]
  },
  {
   "cell_type": "code",
   "execution_count": 7,
   "metadata": {},
   "outputs": [
    {
     "name": "stdout",
     "output_type": "stream",
     "text": [
      "Support Vector Regression (linear) R^2 value: 0.51 (std: 0.03)\n"
     ]
    }
   ],
   "source": [
    "SVR_linear_R2 = cross_val_score(SVR_linear_model, X, y, cv=kfold)\n",
    "print(\"Support Vector Regression (linear) R^2 value: %.2f (std: %.2f)\" % (SVR_linear_R2.mean(), SVR_linear_R2.std()))"
   ]
  },
  {
   "cell_type": "code",
   "execution_count": 6,
   "metadata": {},
   "outputs": [
    {
     "name": "stdout",
     "output_type": "stream",
     "text": [
      "Random Forest Mean squared error: 0.34\n",
      "Random Forest Test Variance score: 0.52\n"
     ]
    }
   ],
   "source": [
    "RFR_pred = cross_val_predict(RFR_model, X, y, cv=kfold)\n",
    "print(\"Random Forest Mean squared error: %.2f\"% mean_squared_error(y, RFR_pred))\n",
    "print('Random Forest Test Variance score: %.2f' % r2_score(y, RFR_pred))"
   ]
  },
  {
   "cell_type": "code",
   "execution_count": 9,
   "metadata": {},
   "outputs": [
    {
     "name": "stdout",
     "output_type": "stream",
     "text": [
      "SVR (rbf) Mean squared error: 0.30\n",
      "SVR (rbf) Test Variance score: 0.57\n"
     ]
    }
   ],
   "source": [
    "#SVR_pred = cross_val_predict(SVR_model, X, y, cv=kfold)\n",
    "#print(\"SVR (rbf) Mean squared error: %.2f\"% mean_squared_error(y, SVR_pred))\n",
    "#print('SVR (rbf) Test Variance score: %.2f' % r2_score(y, SVR_pred))"
   ]
  },
  {
   "cell_type": "code",
   "execution_count": 6,
   "metadata": {},
   "outputs": [],
   "source": [
    "SVR_linear_pred = cross_val_predict(SVR_linear_model, X, y, cv=kfold)"
   ]
  },
  {
   "cell_type": "code",
   "execution_count": 7,
   "metadata": {},
   "outputs": [
    {
     "name": "stdout",
     "output_type": "stream",
     "text": [
      "SVR (linear) Mean squared error: 0.33\n"
     ]
    }
   ],
   "source": [
    "print(\"SVR (linear) Mean squared error: %.2f\"% mean_squared_error(y, SVR_linear_pred))"
   ]
  },
  {
   "cell_type": "code",
   "execution_count": 8,
   "metadata": {},
   "outputs": [
    {
     "name": "stdout",
     "output_type": "stream",
     "text": [
      "SVR (linear) Test Variance score: 0.53\n"
     ]
    }
   ],
   "source": [
    "print('SVR (linear) Test Variance score: %.2f' % r2_score(y, SVR_linear_pred))"
   ]
  },
  {
   "cell_type": "code",
   "execution_count": 12,
   "metadata": {},
   "outputs": [],
   "source": [
    "our_features = ['is superhost', 'accommodates', 'bathrooms', 'bedrooms', 'beds', 'Entire home/apt', 'Private room', 'Shared room', 'Airbed', 'Couch', 'Futon', 'Pull-out Sofa', 'Real Bed', 'Apartment', 'Condo', 'Guest', 'Hotel', 'House', 'Other', 'Normalized Zhvi','Wifi', 'Heat', 'Essentials', 'Smoke Detector', 'Kitchen', 'Air Conditioning', 'Hangers', 'Shampoo', 'TV', 'Washer', 'Dryer', 'Carbon Monoxide Detector', 'Hair Dryer', 'Laptop Friendly Workspace', 'Iron', 'Fire Extinguisher', 'Hot Water', 'Free Parking on Premises', 'Self Check-in', 'First Aid Kit', 'review conf']"
   ]
  },
  {
   "cell_type": "code",
   "execution_count": 39,
   "metadata": {},
   "outputs": [],
   "source": [
    "RFR_importances = RFR_model.feature_importances_\n",
    "RFR_indices = np.argsort(RFR_importances)[::-1]\n",
    "RFR_indices_name = [our_features[RFR_indices[k]] for k in range(41)]"
   ]
  },
  {
   "cell_type": "code",
   "execution_count": 36,
   "metadata": {},
   "outputs": [],
   "source": [
    "SVR_linear_importances = SVR_linear_model.coef_\n",
    "SVR_linear_importances = SVR_linear_importances[0]\n",
    "sorted_linear_importances = sorted(list(zip(SVR_linear_importances, our_features)))[::-1]\n",
    "list_of_features = [name for (coef, name) in sorted_linear_importances]\n",
    "list_of_coefs = [coef for (coef, name) in sorted_linear_importances]\n",
    "#SVR_linear_indices = np.argsort(SVR_linear_importances)[::-1]\n",
    "#SVR_linear_indices_name = [our_features[SVR_linear_indices[k]] for k in range(41)]"
   ]
  },
  {
   "cell_type": "code",
   "execution_count": null,
   "metadata": {},
   "outputs": [],
   "source": [
    "SVR_linear_importances2 = SVR_linear_model2.coef_\n",
    "SVR_linear_importances2 = SVR_linear_importances2[0]\n",
    "sorted_linear_importances2 = sorted(list(zip(SVR_linear_importances2, our_features)))[::-1]\n",
    "list_of_features2 = [name for (coef, name) in sorted_linear_importances2]\n",
    "list_of_coefs2 = [coef for (coef, name) in sorted_linear_importances2]"
   ]
  },
  {
   "cell_type": "code",
   "execution_count": 31,
   "metadata": {},
   "outputs": [
    {
     "name": "stdout",
     "output_type": "stream",
     "text": [
      "Random Forest Feature ranking:\n",
      "1. Entire home/apt (0.556936)\n",
      "2. bathrooms (0.260158)\n",
      "3. Normalized Zhvi (0.066002)\n",
      "4. accommodates (0.031052)\n",
      "5. review conf (0.025466)\n",
      "6. Hotel (0.017102)\n",
      "7. Private room (0.015943)\n",
      "8. bedrooms (0.011264)\n",
      "9. Shared room (0.004638)\n",
      "10. Hot Water (0.002846)\n",
      "11. beds (0.001873)\n",
      "12. Hangers (0.001596)\n",
      "13. Self Check-in (0.001460)\n",
      "14. Fire Extinguisher (0.001196)\n",
      "15. Essentials (0.000762)\n",
      "16. is superhost (0.000446)\n",
      "17. TV (0.000193)\n",
      "18. Dryer (0.000147)\n",
      "19. Other (0.000145)\n",
      "20. Shampoo (0.000118)\n",
      "21. House (0.000105)\n",
      "22. Free Parking on Premises (0.000079)\n",
      "23. Guest (0.000075)\n",
      "24. Smoke Detector (0.000067)\n",
      "25. Laptop Friendly Workspace (0.000067)\n",
      "26. Condo (0.000056)\n",
      "27. Wifi (0.000045)\n",
      "28. Airbed (0.000044)\n",
      "29. Heat (0.000036)\n",
      "30. First Aid Kit (0.000027)\n",
      "31. Air Conditioning (0.000027)\n",
      "32. Iron (0.000012)\n",
      "33. Pull-out Sofa (0.000007)\n",
      "34. Real Bed (0.000006)\n",
      "35. Kitchen (0.000003)\n",
      "36. Apartment (0.000002)\n",
      "37. Washer (0.000000)\n",
      "38. Carbon Monoxide Detector (0.000000)\n",
      "39. Hair Dryer (0.000000)\n",
      "40. Couch (0.000000)\n",
      "41. Futon (0.000000)\n"
     ]
    }
   ],
   "source": [
    "print(\"Random Forest Feature Ranking:\")\n",
    "\n",
    "for f in range(X.shape[1]):\n",
    "    print(\"%d. %s (%f)\" % (f + 1, RFR_indices_name[f], RFR_importances[RFR_indices[f]]))"
   ]
  },
  {
   "cell_type": "code",
   "execution_count": 32,
   "metadata": {},
   "outputs": [
    {
     "data": {
      "text/plain": [
       "(-1, 41)"
      ]
     },
     "execution_count": 32,
     "metadata": {},
     "output_type": "execute_result"
    },
    {
     "data": {
      "image/png": "[encoded data removed]",
      "text/plain": [
       "<Figure size 1296x432 with 1 Axes>"
      ]
     },
     "metadata": {
      "needs_background": "light"
     },
     "output_type": "display_data"
    }
   ],
   "source": [
    "plt.figure(figsize =(18, 6))\n",
    "plt.title(\"Random Forest Feature Importances\")\n",
    "plt.bar(range(X.shape[1]), RFR_importances[RFR_indices],\n",
    "       color=\"#9067a7\", align=\"center\")\n",
    "plt.xticks(range(X.shape[1]), RFR_indices_name, rotation='vertical')\n",
    "plt.xlim([-1, X.shape[1]])"
   ]
  },
  {
   "cell_type": "code",
   "execution_count": 40,
   "metadata": {},
   "outputs": [
    {
     "name": "stdout",
     "output_type": "stream",
     "text": [
      "SVR Feature ranking:\n",
      "1. Hotel (0.656980)\n",
      "2. Entire home/apt (0.634022)\n",
      "3. Normalized Zhvi (0.446712)\n",
      "4. Air Conditioning (0.234343)\n",
      "5. bathrooms (0.184261)\n",
      "6. Pull-out Sofa (0.177380)\n",
      "7. TV (0.159828)\n",
      "8. Shampoo (0.117832)\n",
      "9. bedrooms (0.097227)\n",
      "10. Washer (0.066828)\n",
      "11. accommodates (0.064748)\n",
      "12. Couch (0.048554)\n",
      "13. Dryer (0.044976)\n",
      "14. Iron (0.032754)\n",
      "15. Private room (0.029245)\n",
      "16. Real Bed (0.008666)\n",
      "17. Hair Dryer (0.000000)\n",
      "18. Carbon Monoxide Detector (0.000000)\n",
      "19. Wifi (-0.002458)\n",
      "20. beds (-0.007299)\n",
      "21. Laptop Friendly Workspace (-0.011342)\n",
      "22. Fire Extinguisher (-0.012348)\n",
      "23. Other (-0.025613)\n",
      "24. First Aid Kit (-0.028568)\n",
      "25. Kitchen (-0.044499)\n",
      "26. is superhost (-0.049673)\n",
      "27. Heat (-0.050532)\n",
      "28. Hot Water (-0.073040)\n",
      "29. Futon (-0.076240)\n",
      "30. Self Check-in (-0.100020)\n",
      "31. Apartment (-0.100555)\n",
      "32. Free Parking on Premises (-0.115937)\n",
      "33. Smoke Detector (-0.128212)\n",
      "34. Condo (-0.129289)\n",
      "35. House (-0.136204)\n",
      "36. Airbed (-0.158360)\n",
      "37. Hangers (-0.160119)\n",
      "38. Essentials (-0.174374)\n",
      "39. review conf (-0.197414)\n",
      "40. Guest (-0.265319)\n",
      "41. Shared room (-0.663267)\n"
     ]
    }
   ],
   "source": [
    "print(\"SVR Feature Ranking:\")\n",
    "\n",
    "for f in range(X.shape[1]):\n",
    "    print(\"%d. %s (%f)\" % (f + 1, list_of_features[f], list_of_coefs[f]))"
   ]
  },
  {
   "cell_type": "code",
   "execution_count": 42,
   "metadata": {},
   "outputs": [
    {
     "data": {
      "text/plain": [
       "(-1, 41)"
      ]
     },
     "execution_count": 42,
     "metadata": {},
     "output_type": "execute_result"
    },
    {
     "data": {
      "image/png": "[encoded data removed]",
      "text/plain": [
       "<Figure size 1296x432 with 1 Axes>"
      ]
     },
     "metadata": {
      "needs_background": "light"
     },
     "output_type": "display_data"
    }
   ],
   "source": [
    "plt.figure(figsize =(18, 6))\n",
    "plt.title(\"SVR Feature Coefficients\")\n",
    "plt.bar(range(X.shape[1]), list_of_coefs,\n",
    "       color=\"#9067a7\", align=\"center\")\n",
    "plt.xticks(range(X.shape[1]), list_of_features, rotation='vertical')\n",
    "plt.xlim([-1, X.shape[1]])"
   ]
  }
 ],
 "metadata": {
  "kernelspec": {
   "display_name": "Python 3",
   "language": "python",
   "name": "python3"
  },
  "language_info": {
   "codemirror_mode": {
    "name": "ipython",
    "version": 3
   },
   "file_extension": ".py",
   "mimetype": "text/x-python",
   "name": "python",
   "nbconvert_exporter": "python",
   "pygments_lexer": "ipython3",
   "version": "3.5.2"
  }
 },
 "nbformat": 4,
 "nbformat_minor": 2
}
